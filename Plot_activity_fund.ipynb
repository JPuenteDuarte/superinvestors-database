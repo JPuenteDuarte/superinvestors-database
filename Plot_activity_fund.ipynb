{
 "cells": [
  {
   "cell_type": "code",
   "execution_count": 2,
   "metadata": {},
   "outputs": [
    {
     "name": "stderr",
     "output_type": "stream",
     "text": [
      "\n",
      "1 Failed download:\n",
      "['ATVI']: YFTzMissingError('$%ticker%: possibly delisted; No timezone found')\n"
     ]
    },
    {
     "name": "stdout",
     "output_type": "stream",
     "text": [
      "No se encontraron datos para ATVI.\n"
     ]
    },
    {
     "name": "stderr",
     "output_type": "stream",
     "text": [
      "\n",
      "1 Failed download:\n",
      "['DISH-OLD']: YFTzMissingError('$%ticker%: possibly delisted; No timezone found')\n",
      "\n",
      "1 Failed download:\n",
      "['MFGP-OLD']: YFTzMissingError('$%ticker%: possibly delisted; No timezone found')\n"
     ]
    },
    {
     "name": "stdout",
     "output_type": "stream",
     "text": [
      "No se encontraron datos para DISH-OLD.\n",
      "No se encontraron datos para MFGP-OLD.\n"
     ]
    },
    {
     "name": "stderr",
     "output_type": "stream",
     "text": [
      "\n",
      "1 Failed download:\n",
      "['VMW-OLD']: YFTzMissingError('$%ticker%: possibly delisted; No timezone found')\n"
     ]
    },
    {
     "name": "stdout",
     "output_type": "stream",
     "text": [
      "No se encontraron datos para VMW-OLD.\n"
     ]
    },
    {
     "name": "stderr",
     "output_type": "stream",
     "text": [
      "\n",
      "1 Failed download:\n",
      "['CXO']: YFTzMissingError('$%ticker%: possibly delisted; No timezone found')\n"
     ]
    },
    {
     "name": "stdout",
     "output_type": "stream",
     "text": [
      "No se encontraron datos para CXO.\n"
     ]
    },
    {
     "name": "stderr",
     "output_type": "stream",
     "text": [
      "\n",
      "1 Failed download:\n",
      "['STOR-OLD']: YFTzMissingError('$%ticker%: possibly delisted; No timezone found')\n"
     ]
    },
    {
     "name": "stdout",
     "output_type": "stream",
     "text": [
      "No se encontraron datos para STOR-OLD.\n"
     ]
    },
    {
     "name": "stderr",
     "output_type": "stream",
     "text": [
      "\n",
      "1 Failed download:\n",
      "['SCTL-OLD']: YFTzMissingError('$%ticker%: possibly delisted; No timezone found')\n"
     ]
    },
    {
     "name": "stdout",
     "output_type": "stream",
     "text": [
      "No se encontraron datos para SCTL-OLD.\n"
     ]
    },
    {
     "name": "stderr",
     "output_type": "stream",
     "text": [
      "\n",
      "1 Failed download:\n",
      "['DOC-OLD']: YFTzMissingError('$%ticker%: possibly delisted; No timezone found')\n"
     ]
    },
    {
     "name": "stdout",
     "output_type": "stream",
     "text": [
      "No se encontraron datos para DOC-OLD.\n"
     ]
    },
    {
     "name": "stderr",
     "output_type": "stream",
     "text": [
      "\n",
      "1 Failed download:\n",
      "['DCT-OLD']: YFTzMissingError('$%ticker%: possibly delisted; No timezone found')\n"
     ]
    },
    {
     "name": "stdout",
     "output_type": "stream",
     "text": [
      "No se encontraron datos para DCT-OLD.\n"
     ]
    },
    {
     "name": "stderr",
     "output_type": "stream",
     "text": [
      "\n",
      "1 Failed download:\n",
      "['PCTI-OLD']: YFTzMissingError('$%ticker%: possibly delisted; No timezone found')\n"
     ]
    },
    {
     "name": "stdout",
     "output_type": "stream",
     "text": [
      "No se encontraron datos para PCTI-OLD.\n"
     ]
    },
    {
     "name": "stderr",
     "output_type": "stream",
     "text": [
      "\n",
      "1 Failed download:\n",
      "['CPE-OLD']: YFTzMissingError('$%ticker%: possibly delisted; No timezone found')\n"
     ]
    },
    {
     "name": "stdout",
     "output_type": "stream",
     "text": [
      "No se encontraron datos para CPE-OLD.\n"
     ]
    },
    {
     "name": "stderr",
     "output_type": "stream",
     "text": [
      "\n",
      "1 Failed download:\n",
      "['ESTE-OLD']: YFTzMissingError('$%ticker%: possibly delisted; No timezone found')\n"
     ]
    },
    {
     "name": "stdout",
     "output_type": "stream",
     "text": [
      "No se encontraron datos para ESTE-OLD.\n"
     ]
    },
    {
     "name": "stderr",
     "output_type": "stream",
     "text": [
      "\n",
      "1 Failed download:\n",
      "['NXGN-OLD']: YFTzMissingError('$%ticker%: possibly delisted; No timezone found')\n"
     ]
    },
    {
     "name": "stdout",
     "output_type": "stream",
     "text": [
      "No se encontraron datos para NXGN-OLD.\n"
     ]
    },
    {
     "name": "stderr",
     "output_type": "stream",
     "text": [
      "\n",
      "1 Failed download:\n",
      "['EVBG-OLD']: YFTzMissingError('$%ticker%: possibly delisted; No timezone found')\n"
     ]
    },
    {
     "name": "stdout",
     "output_type": "stream",
     "text": [
      "No se encontraron datos para EVBG-OLD.\n"
     ]
    },
    {
     "name": "stderr",
     "output_type": "stream",
     "text": [
      "\n",
      "1 Failed download:\n",
      "['SLCA-OLD']: YFTzMissingError('$%ticker%: possibly delisted; No timezone found')\n"
     ]
    },
    {
     "name": "stdout",
     "output_type": "stream",
     "text": [
      "No se encontraron datos para SLCA-OLD.\n",
      "$LEN.B: possibly delisted; No price data found  (1d 2021-01-01 -> 2024-08-10)"
     ]
    },
    {
     "name": "stderr",
     "output_type": "stream",
     "text": [
      "\n",
      "1 Failed download:\n",
      "['LEN.B']: YFPricesMissingError('$%ticker%: possibly delisted; No price data found  (1d 2021-01-01 -> 2024-08-10)')\n"
     ]
    },
    {
     "name": "stdout",
     "output_type": "stream",
     "text": [
      "\n",
      "No se encontraron datos para LEN.B.\n"
     ]
    },
    {
     "name": "stderr",
     "output_type": "stream",
     "text": [
      "\n",
      "1 Failed download:\n",
      "['CIR-OLD']: YFTzMissingError('$%ticker%: possibly delisted; No timezone found')\n"
     ]
    },
    {
     "name": "stdout",
     "output_type": "stream",
     "text": [
      "No se encontraron datos para CIR-OLD.\n"
     ]
    },
    {
     "name": "stderr",
     "output_type": "stream",
     "text": [
      "\n",
      "1 Failed download:\n",
      "['PGTI-OLD']: YFTzMissingError('$%ticker%: possibly delisted; No timezone found')\n"
     ]
    },
    {
     "name": "stdout",
     "output_type": "stream",
     "text": [
      "No se encontraron datos para PGTI-OLD.\n"
     ]
    },
    {
     "name": "stderr",
     "output_type": "stream",
     "text": [
      "\n",
      "1 Failed download:\n",
      "['HCCI-OLD']: YFTzMissingError('$%ticker%: possibly delisted; No timezone found')\n"
     ]
    },
    {
     "name": "stdout",
     "output_type": "stream",
     "text": [
      "No se encontraron datos para HCCI-OLD.\n"
     ]
    },
    {
     "name": "stderr",
     "output_type": "stream",
     "text": [
      "\n",
      "1 Failed download:\n",
      "['DOOR-OLD']: YFTzMissingError('$%ticker%: possibly delisted; No timezone found')\n"
     ]
    },
    {
     "name": "stdout",
     "output_type": "stream",
     "text": [
      "No se encontraron datos para DOOR-OLD.\n"
     ]
    },
    {
     "name": "stderr",
     "output_type": "stream",
     "text": [
      "\n",
      "1 Failed download:\n",
      "['OXY.WS']: YFTzMissingError('$%ticker%: possibly delisted; No timezone found')\n"
     ]
    },
    {
     "name": "stdout",
     "output_type": "stream",
     "text": [
      "No se encontraron datos para OXY.WS.\n"
     ]
    },
    {
     "name": "stderr",
     "output_type": "stream",
     "text": [
      "\n",
      "1 Failed download:\n",
      "['MDC-OLD']: YFTzMissingError('$%ticker%: possibly delisted; No timezone found')\n"
     ]
    },
    {
     "name": "stdout",
     "output_type": "stream",
     "text": [
      "No se encontraron datos para MDC-OLD.\n"
     ]
    },
    {
     "name": "stderr",
     "output_type": "stream",
     "text": [
      "\n",
      "1 Failed download:\n",
      "['SNPO-OLD']: YFTzMissingError('$%ticker%: possibly delisted; No timezone found')\n"
     ]
    },
    {
     "name": "stdout",
     "output_type": "stream",
     "text": [
      "No se encontraron datos para SNPO-OLD.\n"
     ]
    },
    {
     "name": "stderr",
     "output_type": "stream",
     "text": [
      "\n",
      "1 Failed download:\n",
      "['BRK.B']: YFTzMissingError('$%ticker%: possibly delisted; No timezone found')\n"
     ]
    },
    {
     "name": "stdout",
     "output_type": "stream",
     "text": [
      "No se encontraron datos para BRK.B.\n"
     ]
    },
    {
     "name": "stderr",
     "output_type": "stream",
     "text": [
      "\n",
      "1 Failed download:\n",
      "['BRK.A']: YFTzMissingError('$%ticker%: possibly delisted; No timezone found')\n"
     ]
    },
    {
     "name": "stdout",
     "output_type": "stream",
     "text": [
      "No se encontraron datos para BRK.A.\n"
     ]
    },
    {
     "data": {
      "image/png": "[encoded data removed]",
      "text/plain": [
       "<Figure size 1152x864 with 1 Axes>"
      ]
     },
     "metadata": {
      "needs_background": "light"
     },
     "output_type": "display_data"
    }
   ],
   "source": [
    "import yfinance as yf\n",
    "import pandas as pd\n",
    "from sqlalchemy import create_engine\n",
    "import matplotlib.pyplot as plt\n",
    "import seaborn as sns\n",
    "import warnings\n",
    "warnings.filterwarnings(\"ignore\")\n",
    "\n",
    "def read_db_credentials(file_path):\n",
    "    credentials = {}\n",
    "    with open(file_path, 'r') as file:\n",
    "        for line in file:\n",
    "            key, value = line.strip().split('=')\n",
    "            credentials[key] = value\n",
    "    return credentials\n",
    "\n",
    "file_path = 'DB_connection.txt'\n",
    "credentials = read_db_credentials(file_path)\n",
    "connection_string = f\"postgresql+psycopg2://{credentials['username']}:{credentials['password']}@{credentials['host']}:{credentials['port']}/{credentials['database']}\"\n",
    "engine = create_engine(connection_string)\n",
    "\n",
    "top_funds = ['BRK','DODGX','pcm','FE']\n",
    "\n",
    "funds_str = \"', '\".join(top_funds)\n",
    "\n",
    "query = f\"\"\"\n",
    "SELECT symbol, share_change, transaction_type, quarter, year, fund\n",
    "FROM Activity as act\n",
    "JOIN superinvestors as sup ON act.fund_code = sup.id\n",
    "WHERE (year = '2021' OR year = '2022' OR year = '2023' OR year = '2024') \n",
    "AND act.fund_code IN ('{funds_str}')\n",
    "ORDER BY share_change DESC\n",
    "\"\"\"\n",
    "\n",
    "df_activity = pd.read_sql(query, engine)\n",
    "symbols = df_activity['symbol'].unique()\n",
    "start_date = '2021-01-01'\n",
    "df_prices_list = []\n",
    "\n",
    "for symbol in symbols:\n",
    "    try:\n",
    "        stock_data = yf.download(symbol, start=start_date, progress=False)\n",
    "        if stock_data.empty:\n",
    "            print(f\"No se encontraron datos para {symbol}.\")\n",
    "            continue\n",
    "        stock_data['Symbol'] = symbol\n",
    "        stock_data.reset_index(inplace=True)\n",
    "        stock_data['Date'] = pd.to_datetime(stock_data['Date'])\n",
    "        stock_data['year'] = stock_data['Date'].dt.year.astype(str)\n",
    "        stock_data['quarter'] = stock_data['Date'].dt.quarter.astype(str)\n",
    "        stock_data_filtered = stock_data[['Symbol', 'quarter', 'year', 'Adj Close']]\n",
    "        stock_data_filtered.rename(columns={'Adj Close': 'adj_close'}, inplace=True)\n",
    "        df_prices_list.append(stock_data_filtered)\n",
    "    except Exception as e:\n",
    "        print(f\"Error al descargar datos para {symbol}: {e}\")\n",
    "\n",
    "df_prices = pd.concat(df_prices_list)\n",
    "\n",
    "df_last_prices = df_prices.groupby(['Symbol', 'year', 'quarter']).last().reset_index()\n",
    "df_activity_with_prices = pd.merge(df_activity, df_last_prices, left_on=['symbol', 'year', 'quarter'], right_on=['Symbol', 'year', 'quarter'], how='left')\n",
    "df_activity_with_prices = df_activity_with_prices.drop_duplicates()\n",
    "df_activity_with_prices.dropna(subset=['adj_close'], inplace=True)\n",
    "df_activity_with_prices['value'] = df_activity_with_prices['share_change'] * df_activity_with_prices['adj_close']\n",
    "\n",
    "\n",
    "df_grouped = df_activity_with_prices.groupby(['symbol', 'year', 'quarter', 'fund']).agg(\n",
    "    total_shares=pd.NamedAgg(column='share_change', aggfunc='sum'),\n",
    "    total_value=pd.NamedAgg(column='value', aggfunc=lambda x: x.sum() / 1_000_000),  \n",
    "    transaction_type=pd.NamedAgg(column='transaction_type', aggfunc=lambda x: 'combined' if len(x) > 1 else x.iloc[0])\n",
    ").reset_index()\n",
    "\n",
    "df_grouped['total_value'] = df_grouped['total_value'].round(2)  \n",
    "\n",
    "df_funds_period_grouped = df_grouped.groupby(['fund', 'year', 'quarter']).agg(\n",
    "    total_value=pd.NamedAgg(column='total_value', aggfunc='sum')\n",
    ").reset_index()\n",
    "\n",
    "df_funds_period_grouped['period'] = df_funds_period_grouped['year'] + ' Q' + df_funds_period_grouped['quarter']\n",
    "df_funds_period_grouped_sorted = df_funds_period_grouped.sort_values(by=['fund', 'year', 'quarter'])\n",
    "\n",
    "\n",
    "plt.figure(figsize=(16, 12))\n",
    "sns.barplot(x='period', y='total_value', hue='fund', data=df_funds_period_grouped_sorted, palette='viridis')\n",
    "\n",
    "plt.title('selected funds, quarterly trading activity', fontsize=18)\n",
    "plt.xlabel('Period', fontsize=14)\n",
    "plt.ylabel('Volume (millions USD)', fontsize=14)\n",
    "plt.xticks(rotation=45, ha='right')\n",
    "plt.gca().yaxis.set_major_formatter(plt.matplotlib.ticker.StrMethodFormatter('{x:,.0f}'))\n",
    "plt.savefig('Trading activity by fund.jpg')\n",
    "plt.show()\n"
   ]
  },
  {
   "cell_type": "code",
   "execution_count": null,
   "metadata": {},
   "outputs": [],
   "source": []
  }
 ],
 "metadata": {
  "kernelspec": {
   "display_name": "Python 3",
   "language": "python",
   "name": "python3"
  },
  "language_info": {
   "codemirror_mode": {
    "name": "ipython",
    "version": 3
   },
   "file_extension": ".py",
   "mimetype": "text/x-python",
   "name": "python",
   "nbconvert_exporter": "python",
   "pygments_lexer": "ipython3",
   "version": "3.9.7"
  }
 },
 "nbformat": 4,
 "nbformat_minor": 2
}
