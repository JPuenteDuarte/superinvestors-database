{
 "cells": [
  {
   "cell_type": "code",
   "execution_count": 2,
   "metadata": {},
   "outputs": [
    {
     "name": "stdout",
     "output_type": "stream",
     "text": [
      "  symbol  share_change transaction_type quarter  year fund_code\n",
      "0   MSCI      349772.0              buy       1  2024       AKO\n",
      "1    TMO      296246.0              buy       1  2024       AKO\n",
      "2    WMG     2797836.0              buy       1  2024       AKO\n",
      "3     EL      838783.0              buy       1  2024       AKO\n",
      "4    ZTS      508238.0              buy       1  2024       AKO\n"
     ]
    }
   ],
   "source": [
    "import pandas as pd\n",
    "from sqlalchemy import create_engine\n",
    "\n",
    "def read_db_credentials(file_path):\n",
    "    credentials = {}\n",
    "    with open(file_path, 'r') as file:\n",
    "        for line in file:\n",
    "            key, value = line.strip().split('=')\n",
    "            credentials[key] = value\n",
    "    return credentials\n",
    "\n",
    "file_location = 'BD_connection.txt'\n",
    "credentials = read_db_credentials(file_location)\n",
    "\n",
    "connection_string = f\"postgresql+psycopg2://{credentials['username']}:{credentials['password']}@{credentials['host']}:{credentials['port']}/{credentials['database']}\"\n",
    "engine = create_engine(connection_string)\n",
    "\n",
    "query = 'SELECT * FROM activity'\n",
    "\n",
    "df = pd.read_sql(query, engine)\n",
    "\n",
    "print(df.head())"
   ]
  },
  {
   "cell_type": "code",
   "execution_count": null,
   "metadata": {},
   "outputs": [],
   "source": []
  }
 ],
 "metadata": {
  "kernelspec": {
   "display_name": "base",
   "language": "python",
   "name": "python3"
  },
  "language_info": {
   "codemirror_mode": {
    "name": "ipython",
    "version": 3
   },
   "file_extension": ".py",
   "mimetype": "text/x-python",
   "name": "python",
   "nbconvert_exporter": "python",
   "pygments_lexer": "ipython3",
   "version": "3.12.3"
  }
 },
 "nbformat": 4,
 "nbformat_minor": 2
}
